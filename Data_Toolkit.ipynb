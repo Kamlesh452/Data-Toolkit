{
  "nbformat": 4,
  "nbformat_minor": 0,
  "metadata": {
    "colab": {
      "provenance": []
    },
    "kernelspec": {
      "name": "python3",
      "display_name": "Python 3"
    },
    "language_info": {
      "name": "python"
    }
  },
  "cells": [
    {
      "cell_type": "markdown",
      "source": [
        "# Data Toolkit"
      ],
      "metadata": {
        "id": "-xGFzEYxHDFH"
      }
    },
    {
      "cell_type": "markdown",
      "source": [
        " 1. What is NumPy, and why is it widely used in Python?\n",
        "    >>>NumPy (Numerical Python) is a powerful Python library used for numerical computing. It provides an extensive collection of tools to handle large, multi-dimensional arrays and matrices, along with a vast array of mathematical functions to perform operations on these arrays efficiently."
      ],
      "metadata": {
        "id": "qGXlqVhdHFL5"
      }
    },
    {
      "cell_type": "markdown",
      "source": [
        "2. How does broadcasting work in NumPy?\n",
        "   >>>Broadcasting in NumPy is a powerful feature that allows operations on arrays of different shapes without requiring explicit reshaping. It simplifies code and enhances performance by enabling element-wise operations between arrays of incompatible dimensions."
      ],
      "metadata": {
        "id": "FJmZ0Ca4HaA8"
      }
    },
    {
      "cell_type": "markdown",
      "source": [
        "3. What is a Pandas DataFrame?\n",
        "   >>>A Pandas DataFrame is a two-dimensional, labeled data structure in the Pandas library, which is widely used for data manipulation and analysis in Python. It can be thought of as a table similar to a spreadsheet, a SQL table, or a dictionary of Series objects."
      ],
      "metadata": {
        "id": "ksYKPNMAHn7z"
      }
    },
    {
      "cell_type": "markdown",
      "source": [
        "4. Explain the use of the groupby() method in Pandas?\n",
        "   >>>The groupby() method in Pandas is a powerful tool used for splitting data into groups, applying operations to each group, and then combining the results. It is widely used for data aggregation, transformation, and analysis.\n",
        "\n"
      ],
      "metadata": {
        "id": "BDmC_bAWH2L_"
      }
    },
    {
      "cell_type": "markdown",
      "source": [
        "5. Why is Seaborn preferred for statistical visualizations?\n",
        "   >>>Seaborn is a Python data visualization library built on top of Matplotlib that is specifically designed for creating statistical visualizations. It is widely preferred for such tasks due to its ease of use, aesthetic appeal, and its ability to handle complex datasets effortlessly."
      ],
      "metadata": {
        "id": "ft6CDdiiID78"
      }
    },
    {
      "cell_type": "markdown",
      "source": [
        "6. What are the differences between NumPy arrays and Python lists?\n",
        "   >>>NumPy arrays and Python lists are both used to store collections of data, but they differ significantly in terms of functionality, performance, and use cases.\n",
        "\n"
      ],
      "metadata": {
        "id": "HDsJRgnGITB4"
      }
    },
    {
      "cell_type": "markdown",
      "source": [
        "7. What is a heatmap, and when should it be used?\n",
        "   >>>A heatmap is a data visualization technique that uses colors to represent the magnitude of values in a matrix or table. The values in the matrix are encoded as colors, where higher or lower values are represented by different intensities or hues of the color scale.\n",
        "\n"
      ],
      "metadata": {
        "id": "N0Z46JSYIp_G"
      }
    },
    {
      "cell_type": "markdown",
      "source": [
        "8. What does the term “vectorized operation” mean in NumPy?\n",
        "   >>>The term “vectorized operation” in NumPy refers to performing element-wise operations on entire arrays without the need for explicit loops in Python. This is made possible by NumPy’s highly optimized, low-level C implementations that operate on the entire array at once.\n",
        "\n"
      ],
      "metadata": {
        "id": "4FDwXmaBI461"
      }
    },
    {
      "cell_type": "markdown",
      "source": [
        "9.  How does Matplotlib differ from Plotly?\n",
        "    >>>Matplotlib and Plotly are two popular Python libraries for data visualization. While they both serve the purpose of creating graphs and charts, they differ significantly in features, capabilities, and use cases."
      ],
      "metadata": {
        "id": "vDNiH9UkJYd3"
      }
    },
    {
      "cell_type": "markdown",
      "source": [
        "10. What is the significance of hierarchical indexing in Pandas?\n",
        "    >>>Hierarchical indexing, also known as MultiIndexing, is a powerful feature in Pandas that allows you to use multiple levels of indexing on a DataFrame or Series. It is particularly useful for working with data that has a natural structure with multiple dimensions, such as time series data, geographic data, or data grouped by multiple categories."
      ],
      "metadata": {
        "id": "H4sjqBpAJm6Z"
      }
    },
    {
      "cell_type": "markdown",
      "source": [
        "11. What is the role of Seaborn’s pairplot() function?\n",
        "    >>>he pairplot() function in Seaborn is used to create a matrix of scatter plots to visualize relationships between multiple variables in a dataset. It is particularly useful for exploring pairwise interactions between numerical features. Each subplot shows a scatter plot for a pair of features, and along the diagonal, you can see univariate plots (like histograms or KDE plots) for each individual feature."
      ],
      "metadata": {
        "id": "2n2Yxu8ZJ9dS"
      }
    },
    {
      "cell_type": "markdown",
      "source": [
        "12. What is the purpose of the describe() function in Pandas?\n",
        "    >>>The describe() function in Pandas provides a quick summary of the statistics for the numerical columns of a DataFrame or Series. It is commonly used to gain an overview of the distribution and key statistical properties of the data."
      ],
      "metadata": {
        "id": "4oWIS_-8KXNY"
      }
    },
    {
      "cell_type": "markdown",
      "source": [
        "13. Why is handling missing data important in Pandas?\n",
        "    >>>Handling missing data in Pandas is crucial because missing or null values can have a significant impact on the quality of your analysis and the performance of machine learning models."
      ],
      "metadata": {
        "id": "BEHeeZXHKn_P"
      }
    },
    {
      "cell_type": "markdown",
      "source": [
        "14. What are the benefits of using Plotly for data visualization?\n",
        "    >>>Plotly is a versatile and robust tool for creating interactive and high-quality data visualizations. Its ease of use, flexibility, support for a wide variety of plot types, and integration with other tools make it an excellent choice for both exploratory data analysis and professional presentations. It is particularly valuable when you need to make your visualizations interactive or build web-based dashboards and applications."
      ],
      "metadata": {
        "id": "6e0h7Pn7K7GO"
      }
    },
    {
      "cell_type": "markdown",
      "source": [
        "15. How does NumPy handle multidimensional arrays?\n",
        "    >>>NumPy provides powerful support for multidimensional arrays, enabling efficient storage and manipulation of large datasets with complex structures. It handles multidimensional arrays using its primary object called ndarray (short for \"n-dimensional array\")."
      ],
      "metadata": {
        "id": "jQ_ER0uvLKyr"
      }
    },
    {
      "cell_type": "markdown",
      "source": [
        "16. What is the role of Bokeh in data visualization?\n",
        "    >>>Bokeh is an interactive data visualization library for Python that is specifically designed to create dynamic, visually appealing plots for modern web browsers. It focuses on creating interactive and web-friendly visualizations, making it a powerful tool for data scientists, analysts, and developers working on dashboards, reports, or applications."
      ],
      "metadata": {
        "id": "FAL7tcg8LZ9m"
      }
    },
    {
      "cell_type": "markdown",
      "source": [
        "17. A Explain the difference between apply() and map() in Pandas?\n",
        "   >>>In Pandas, both apply() and map() are used to apply functions to data, but they differ in their usage, functionality, and scope."
      ],
      "metadata": {
        "id": "qKbs6p_bLs4x"
      }
    },
    {
      "cell_type": "markdown",
      "source": [
        "18. What are some advanced features of NumPy?\n",
        "    >>>NumPy is a highly powerful library in Python for numerical computing, offering many advanced features that go beyond basic array manipulation. These features make NumPy essential for a wide range of applications, from scientific computing to machine learning."
      ],
      "metadata": {
        "id": "trsAJnmGL_sL"
      }
    },
    {
      "cell_type": "markdown",
      "source": [
        "19. How does Pandas simplify time series analysis?\n",
        "    >>>Pandas simplifies time series analysis by providing powerful tools and features that make it easy to work with time-based data. These features enable efficient manipulation, analysis, and visualization of time series data, which is often used in domains such as finance, economics, and weather forecasting."
      ],
      "metadata": {
        "id": "RFp08oNEMQPL"
      }
    },
    {
      "cell_type": "markdown",
      "source": [
        "20. What is the role of a pivot table in Pandas?\n",
        "    >>>A pivot table in Pandas is a powerful tool for summarizing and aggregating data, often used to transform data into a more useful format for analysis and reporting. It allows you to reshape the data by grouping it based on one or more columns and applying aggregate functions (such as sum, mean, count, etc.) to the grouped data."
      ],
      "metadata": {
        "id": "377jAXU0Mgdc"
      }
    },
    {
      "cell_type": "markdown",
      "source": [
        "21. Why is NumPy’s array slicing faster than Python’s list slicing?\n",
        "    >>>NumPy's array slicing is faster than Python's list slicing for several key reasons related to how NumPy arrays are implemented and optimized at a lower level, compared to standard Python lists."
      ],
      "metadata": {
        "id": "pUmz2TMNMvZE"
      }
    },
    {
      "cell_type": "markdown",
      "source": [
        "22. What are some common use cases for Seaborn?\n",
        "    >>>Seaborn is a powerful and flexible Python visualization library built on top of Matplotlib, designed to make it easier to generate informative and aesthetically pleasing statistical plots. It provides high-level functions that simplify the process of creating complex visualizations, making it a go-to tool for many data scientists and analysts."
      ],
      "metadata": {
        "id": "5zW-JZEMNC5q"
      }
    },
    {
      "cell_type": "markdown",
      "source": [
        "# Practical"
      ],
      "metadata": {
        "id": "BTuwIoXbNZ41"
      }
    },
    {
      "cell_type": "markdown",
      "source": [
        "1. How do you create a 2D NumPy array and calculate the sum of each row?"
      ],
      "metadata": {
        "id": "jIcJ2HU3NecS"
      }
    },
    {
      "cell_type": "code",
      "source": [
        "import numpy as np\n",
        "arr = np.array([[1, 2, 3],\n",
        "                [4, 5, 6],\n",
        "                [7, 8, 9]])\n",
        "row_sums = np.sum(arr, axis=1)\n",
        "\n",
        "# Output the result\n",
        "print(\"Original Array:\")\n",
        "print(arr)\n",
        "\n",
        "print(\"\\nSum of each row:\")\n",
        "print(row_sums)\n"
      ],
      "metadata": {
        "id": "hYpShIuBNl5z"
      },
      "execution_count": null,
      "outputs": []
    },
    {
      "cell_type": "markdown",
      "source": [
        "2. Write a Pandas script to find the mean of a specific column in a DataFrame?"
      ],
      "metadata": {
        "id": "zoP-6PcCOObn"
      }
    },
    {
      "cell_type": "code",
      "source": [
        "import pandas as pd\n",
        "data = {\n",
        "    'Name': ['Ram', 'Shyam', 'Vivek', 'Abhay', 'Ankit'],\n",
        "    'Age': [23, 30, 35, 40, 25],\n",
        "    'Salary': [70000, 80000, 120000, 95000, 85000]\n",
        "}\n",
        "df = pd.DataFrame(data)\n",
        "mean_salary = df['Salary'].mean()\n",
        "print(\"Mean Salary:\", mean_salary)\n"
      ],
      "metadata": {
        "id": "GfFCA-8zOX06"
      },
      "execution_count": null,
      "outputs": []
    },
    {
      "cell_type": "markdown",
      "source": [
        "3. Create a scatter plot using Matplotlib?\n"
      ],
      "metadata": {
        "id": "Y7S0kpPnP4ON"
      }
    },
    {
      "cell_type": "code",
      "source": [
        "import matplotlib.pyplot as plt\n",
        "x = [1, 2, 3, 4, 5]\n",
        "y = [2, 4, 6, 8, 10]\n",
        "plt.scatter(x, y)\n",
        "plt.show()"
      ],
      "metadata": {
        "id": "et8u9ww8QZDK"
      },
      "execution_count": null,
      "outputs": []
    },
    {
      "cell_type": "markdown",
      "source": [
        "4. How do you calculate the correlation matrix using Seaborn and visualize it with a heatmap?"
      ],
      "metadata": {
        "id": "mPksO2d0QaGL"
      }
    },
    {
      "cell_type": "code",
      "source": [
        "import seaborn as sns\n",
        "import matplotlib.pyplot as plt\n",
        "import pandas as pd\n",
        "data = {\n",
        "    'A': [1, 2, 3, 4, 5],\n",
        "    'B': [5, 4, 3, 2, 1],\n",
        "    'C': [2, 3, 4, 5, 6],\n",
        "    'D': [5, 3, 2, 4, 1]\n",
        "}\n",
        "df = pd.DataFrame(data)\n",
        "corr_matrix = df.corr()\n",
        "sns.heatmap(corr_matrix, annot=True, cmap='coolwarm', fmt='.2f', linewidths=0.5)\n",
        "plt.title('Correlation Matrix Heatmap')\n",
        "plt.show()\n"
      ],
      "metadata": {
        "id": "otL1wkUbQjK5"
      },
      "execution_count": null,
      "outputs": []
    },
    {
      "cell_type": "markdown",
      "source": [
        "5. Generate a bar plot using Plotly?"
      ],
      "metadata": {
        "id": "wejWlq8ZRArx"
      }
    },
    {
      "cell_type": "code",
      "source": [
        "import plotly.graph_objects as go\n",
        "categories = ['Category A', 'Category B', 'Category C', 'Category D']\n",
        "values = [10, 20, 30, 40]\n",
        "fig = go.Figure(data=[\n",
        "    go.Bar(x=categories, y=values, marker_color='orange', text=values, textposition='auto')\n",
        "])\n",
        "\n",
        "fig.update_layout(\n",
        "    title='Example Bar Plot',\n",
        "    xaxis_title='Categories',\n",
        "    yaxis_title='Values',\n",
        "    template='plotly_white'\n",
        ")\n",
        "\n",
        "fig.show()\n"
      ],
      "metadata": {
        "id": "KpLhiY_e1ceO"
      },
      "execution_count": null,
      "outputs": []
    },
    {
      "cell_type": "markdown",
      "source": [
        "6. Create a DataFrame and add a new column based on an existing column?"
      ],
      "metadata": {
        "id": "jbMBetpO1rhZ"
      }
    },
    {
      "cell_type": "code",
      "source": [
        "import pandas as pd\n",
        "data = {\n",
        "    'Name': ['Ram', 'Shyam', 'Vivek', 'Akhilesh'],\n",
        "    'Age': [24, 27, 22, 32]\n",
        "}\n",
        "df = pd.DataFrame(data)\n",
        "\n",
        "df['Category'] = df['Age'].apply(lambda age: 'Young' if age < 25 else 'Adult')\n",
        "\n",
        "print(df)\n"
      ],
      "metadata": {
        "id": "LptO3GPV1y6M"
      },
      "execution_count": null,
      "outputs": []
    },
    {
      "cell_type": "markdown",
      "source": [
        "7. Write a program to perform element-wise multiplication of two NumPy arrays?"
      ],
      "metadata": {
        "id": "Ymh4h7OQ2tVx"
      }
    },
    {
      "cell_type": "code",
      "source": [
        "import numpy as np\n",
        "array1 = np.array([1, 2, 3, 4])\n",
        "array2 = np.array([5, 6, 7, 8])\n",
        "result = array1 * array2\n",
        "print(\"Array 1:\", array1)\n",
        "print(\"Array 2:\", array2)\n",
        "print(\"Result of element-wise multiplication:\", result)\n"
      ],
      "metadata": {
        "id": "0dOc6zCF3CtP"
      },
      "execution_count": null,
      "outputs": []
    },
    {
      "cell_type": "markdown",
      "source": [
        "8.  Create a line plot with multiple lines using Matplotlib?"
      ],
      "metadata": {
        "id": "EAxNfydH4hr9"
      }
    },
    {
      "cell_type": "code",
      "source": [
        "import matplotlib.pyplot as plt\n",
        "x = [1, 2, 3, 4, 5]\n",
        "y1 = [2, 4, 6, 8, 10]\n",
        "plt.plot(x, y1, label='Line 1')\n",
        "y2 = [3, 6, 9, 12, 15]\n",
        "plt.plot(x, y2, label='Line 2')\n",
        "plt.xlabel('X-axis')\n",
        "plt.ylabel('Y-axis')\n",
        "plt.title('Multiple Line Plot')\n",
        "plt.legend()\n",
        "plt.show()"
      ],
      "metadata": {
        "id": "XrYOqEDA4syL"
      },
      "execution_count": null,
      "outputs": []
    },
    {
      "cell_type": "markdown",
      "source": [
        "9. Generate a Pandas DataFrame and filter rows where a column value is greater than a threshold?"
      ],
      "metadata": {
        "id": "ueenEgVi5Zf_"
      }
    },
    {
      "cell_type": "code",
      "source": [
        "import pandas as pd\n",
        "data = {\n",
        "    'Name': ['Ram', 'Shyam', 'Vivek', 'Akhilesh'],\n",
        "    'Age': [24, 27, 22, 32]\n",
        "}\n",
        "df = pd.DataFrame(data)\n",
        "threshold_age = 25\n",
        "filtered_df = df[df['Age'] > threshold_age]\n",
        "print(filtered_df)\n"
      ],
      "metadata": {
        "id": "wut8D7Uh57_T"
      },
      "execution_count": null,
      "outputs": []
    },
    {
      "cell_type": "markdown",
      "source": [
        "10. Create a histogram using Seaborn to visualize a distribution?\n"
      ],
      "metadata": {
        "id": "ImfBKvCQ6Q_1"
      }
    },
    {
      "cell_type": "code",
      "source": [
        "import seaborn as sns\n",
        "import matplotlib.pyplot as plt\n",
        "data = [1, 2, 2, 3, 3, 3, 4, 4, 5, 5]\n",
        "sns.histplot(data, kde=True)\n",
        "plt.xlabel('Values')\n",
        "plt.ylabel('Frequency')\n",
        "plt.title('Histogram')\n",
        "plt.show()"
      ],
      "metadata": {
        "id": "aTWUe8o66ZDM"
      },
      "execution_count": null,
      "outputs": []
    },
    {
      "cell_type": "markdown",
      "source": [
        "11. Perform matrix multiplication using NumPy?"
      ],
      "metadata": {
        "id": "26bw2Kg-6tjN"
      }
    },
    {
      "cell_type": "code",
      "source": [
        "import numpy as np\n",
        "matrix1 = np.array([[1, 2], [3, 4]])\n",
        "matrix2 = np.array([[5, 6], [7, 8]])\n",
        "result = np.dot(matrix1, matrix2)\n",
        "print(\"Matrix 1:\")\n",
        "print(matrix1)\n",
        "print(\"\\nMatrix 2:\")\n",
        "print(matrix2)\n",
        "print(\"\\nResult of Matrix Multiplication:\")\n",
        "print(result)"
      ],
      "metadata": {
        "id": "e7VDLE2463lK"
      },
      "execution_count": null,
      "outputs": []
    },
    {
      "cell_type": "markdown",
      "source": [
        "12. Use Pandas to load a CSV file and display its first 5 rows?"
      ],
      "metadata": {
        "id": "A_lP1bBz7iQ9"
      }
    },
    {
      "cell_type": "code",
      "source": [
        "imort pandas as pd\n",
        "file_path = 'data.csv'\n",
        "df = pd.read_csv(file_path)\n",
        "print(df.head())"
      ],
      "metadata": {
        "id": "HX9zK0cS7k9l"
      },
      "execution_count": null,
      "outputs": []
    },
    {
      "cell_type": "markdown",
      "source": [
        "13. Create a 3D scatter plot using Plotly?"
      ],
      "metadata": {
        "id": "tVS_Xuv37v7L"
      }
    },
    {
      "cell_type": "code",
      "source": [
        "import plotly.graph_objects as go\n",
        "import numpy as np\n",
        "x = np.random.rand(100)\n",
        "y = np.random.rand(100)\n",
        "z = np.random.rand(100)"
      ],
      "metadata": {
        "id": "oIBl-YTQ73Bn"
      },
      "execution_count": null,
      "outputs": []
    }
  ]
}